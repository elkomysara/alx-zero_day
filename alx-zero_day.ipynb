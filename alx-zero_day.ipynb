{
 "cells": [
  {
   "cell_type": "markdown",
   "metadata": {},
   "source": [
    "---\n",
    "<center>\n",
    "<h1>  alx-zero_day </h1>\n",
    "</center>\n",
    "\n",
    "---\n"
   ]
  },
  {
   "cell_type": "markdown",
   "metadata": {},
   "source": [
    "---\n",
    "<center>\n",
    "<h1>  0x03. Git  </h1>\n",
    "</center>\n",
    "\n",
    "---\n"
   ]
  },
  {
   "cell_type": "code",
   "execution_count": 1,
   "metadata": {},
   "outputs": [
    {
     "name": "stdout",
     "output_type": "stream",
     "text": [
      "Reinitialized existing Git repository in C:/Users/komy2/OneDrive/Desktop/AlxSE/Repos/alx-zero_day/.git/\n",
      "[main (root-commit) e6b53c3] first commit\n",
      " 1 file changed, 1 insertion(+)\n",
      " create mode 100644 README.md\n"
     ]
    },
    {
     "name": "stderr",
     "output_type": "stream",
     "text": [
      "error: remote origin already exists.\n"
     ]
    },
    {
     "name": "stdout",
     "output_type": "stream",
     "text": [
      "branch 'main' set up to track 'origin/main'.\n"
     ]
    },
    {
     "name": "stderr",
     "output_type": "stream",
     "text": [
      "To https://github.com/elkomysara/alx-zero_day.git\n",
      " * [new branch]      main -> main\n"
     ]
    }
   ],
   "source": [
    "!echo \"# alx-zero_day\" >> README.md\n",
    "!git init\n",
    "!git add README.md\n",
    "!git commit -m \"first commit\"\n",
    "!git branch -M main\n",
    "!git remote add origin git@github.com:elkomysara/alx-zero_day.git\n",
    "!git push -u origin main"
   ]
  },
  {
   "cell_type": "markdown",
   "metadata": {},
   "source": [
    "### 0. Create and setup your Git and GitHub account"
   ]
  },
  {
   "cell_type": "markdown",
   "metadata": {},
   "source": [
    "\n",
    "#### Create your first repository \n",
    "##### Using the graphic interface on the github website, create your first repository.\n",
    "\n",
    "* Name: <code> alx-zero_day </code>\n",
    "* Description: <code style=\"color: red;\"> I'm now a ALX Student, this is my first repository as a full-stack engineer </code>\n",
    "* Public repo\n",
    "* No README, .gitignore, or license\n",
    "\n",
    "\n",
    "\n",
    "\n",
    "<img src=\"image.png\" alt=\"image\" width=\"200\" height=\"100\"/>\n",
    "\n",
    "#### Repo:\n",
    "\n",
    "* GitHub repository: <code> alx-zero_day </code>\n",
    "* File: <code> README.md </code>"
   ]
  },
  {
   "cell_type": "code",
   "execution_count": 2,
   "metadata": {},
   "outputs": [
    {
     "name": "stdout",
     "output_type": "stream",
     "text": [
      "Overwriting README.md\n"
     ]
    }
   ],
   "source": [
    "%%file README.md\n",
    "\n",
    "This is a mandatory file."
   ]
  },
  {
   "cell_type": "markdown",
   "metadata": {},
   "source": [
    "### 1. Repo-session\n"
   ]
  },
  {
   "cell_type": "markdown",
   "metadata": {},
   "source": [
    "##### Create a new directory called <code style=\"color: red;\"> 0x03-git </code> in your <code style=\"color: red;\"> alx-zero_day </code>  repo.\n",
    "\n",
    "##### Make sure you include a not empty <code style=\"color: red;\"> README.md </code>   in your directory:\n",
    "* at the root of your repository <code style=\"color: red;\"> alx-zero_day </code>\n",
    "* AND in the directory <code style=\"color: red;\"> 0x03-git </code>\n",
    "* And important part: Make sure your commit and push your code to Github - otherwise the Checker will always fail.\n",
    "\n",
    "#### Repo:\n",
    "\n",
    "* GitHub repository: <code > alx-zero_day </code>"
   ]
  },
  {
   "cell_type": "code",
   "execution_count": 4,
   "metadata": {},
   "outputs": [],
   "source": [
    "# Create a new dir calle 0x03-git in alx-zero_day using python\n",
    "import os\n",
    "\n",
    "folder_path = r'C:/Users/komy2/OneDrive/Desktop/AlxSE/Repos/alx-zero_day/0x03-git'\n",
    "if not os.path.exists(folder_path):\n",
    "    os.makedirs(folder_path)\n",
    "\n",
    "# Create a README.md\n",
    "file_path = os.path.join(folder_path, 'README.md')\n",
    "\n",
    "with open(file_path, 'w') as file:\n",
    "    file.write(\"This is a mandatory file\")"
   ]
  },
  {
   "cell_type": "code",
   "execution_count": 5,
   "metadata": {},
   "outputs": [
    {
     "name": "stderr",
     "output_type": "stream",
     "text": [
      "A subdirectory or file 0x03-git already exists.\n",
      "Access is denied.\n"
     ]
    }
   ],
   "source": [
    "# Create a new dir calle 0x03-git in alx-zero_day using cmd\n",
    "!mkdir 0x03-git \n",
    "!echo \"not empty README.md\" > README.md"
   ]
  },
  {
   "cell_type": "code",
   "execution_count": 23,
   "metadata": {},
   "outputs": [
    {
     "name": "stderr",
     "output_type": "stream",
     "text": [
      "warning: in the working copy of 'alx-zero_day.ipynb', LF will be replaced by CRLF the next time Git touches it\n"
     ]
    },
    {
     "name": "stdout",
     "output_type": "stream",
     "text": [
      "[main c315d8c] Starting to code today, so cool\n",
      " 6 files changed, 101 insertions(+), 6 deletions(-)\n",
      " create mode 100644 0x03-git/bash/alx\n",
      " create mode 100644 0x03-git/bash/school\n",
      " create mode 100644 0x03-git/c/c_is_fun.c\n",
      " create mode 100644 0x03-git/js/index.js\n",
      " create mode 100644 0x03-git/js/main.js\n",
      "branch 'main' set up to track 'origin/main'.\n"
     ]
    },
    {
     "name": "stderr",
     "output_type": "stream",
     "text": [
      "To https://github.com/elkomysara/alx-zero_day.git\n",
      "   73b32d7..c315d8c  main -> main\n"
     ]
    }
   ],
   "source": [
    "#commiting and pushing code to github\n",
    "!git add .\n",
    "!git commit -m \"Starting to code today, so cool\"\n",
    "!git branch -M main\n",
    "!git push -u origin main"
   ]
  },
  {
   "cell_type": "markdown",
   "metadata": {},
   "source": [
    "### 2. Coding fury road"
   ]
  },
  {
   "cell_type": "markdown",
   "metadata": {},
   "source": [
    "#### For the moment we have an empty project directory containing only a <code> README.md </code>. It’s time to code!\n",
    "\n",
    "* Create these directories at the root of your project: <code> bash, c, js </code>\n",
    "* Create these empty files:\n",
    "    * <code> c/c_is_fun.c </code>\n",
    "    * <code> js/main.js </code>\n",
    "    * <code> js/index.js </code>\n",
    "* Create a file <code> bash/alx </code>  with these two lines inside:<code> #!/bin/bash and echo \"ALX\" </code> \n",
    "* Create a file <code> bash/school </code>  with these two lines inside: <code> #!/bin/bash and echo \"School\" </code> \n",
    "* Add all these new files to  <code> git </code>\n",
    "* Commit your changes <code> (message: “Starting to code today, so cool”)  </code> and push to the remote server\n",
    "\n",
    "#### Repo:\n",
    "* GitHub repository:   <code>alx-zero_day </code>\n",
    "* Directory:   <code> 0x03-git </code>\n",
    "* File:   <code> bash/alx, bash/school, c/c_is_fun.c, js/main.js, js/index.js </code>"
   ]
  },
  {
   "cell_type": "code",
   "execution_count": 15,
   "metadata": {},
   "outputs": [],
   "source": [
    "# Create dir's (bach, c, js)\n",
    "\n",
    "!mkdir \"C:/Users/komy2/OneDrive/Desktop/AlxSE/Repos/alx-zero_day/0x03-git/bash\"  \n",
    "!mkdir \"C:/Users/komy2/OneDrive/Desktop/AlxSE/Repos/alx-zero_day/0x03-git/c\" \n",
    "!mkdir \"C:/Users/komy2/OneDrive/Desktop/AlxSE/Repos/alx-zero_day/0x03-git/js\"\n"
   ]
  },
  {
   "cell_type": "code",
   "execution_count": 18,
   "metadata": {},
   "outputs": [],
   "source": [
    "# Create empty files \"c/c_is_fun.c\", \"js/main.js\", \"js/index.js\"\n",
    "\n",
    "!touch \"C:/Users/komy2/OneDrive/Desktop/AlxSE/Repos/alx-zero_day/0x03-git/c/c_is_fun.c\"\n",
    "!touch \"C:/Users/komy2/OneDrive/Desktop/AlxSE/Repos/alx-zero_day/0x03-git/js/main.js \"\n",
    "!touch \"C:/Users/komy2/OneDrive/Desktop/AlxSE/Repos/alx-zero_day/0x03-git/js/index.js\"\n"
   ]
  },
  {
   "cell_type": "code",
   "execution_count": 19,
   "metadata": {},
   "outputs": [],
   "source": [
    "# Create a file bash/alx with these two lines inside: #!/bin/bash and echo \"ALX\"\n",
    "!echo -e '#!/bin/bash\\necho \"ALX\"' > \"C:/Users/komy2/OneDrive/Desktop/AlxSE/Repos/alx-zero_day/0x03-git/bash/alx\" \n",
    "#Create a file bash/school with these two lines inside: #!/bin/bash and echo \"School\"\n",
    "!echo -e '#!/bin/bash\\necho \"School\"' > \"C:/Users/komy2/OneDrive/Desktop/AlxSE/Repos/alx-zero_day/0x03-git/bash/school\""
   ]
  },
  {
   "cell_type": "code",
   "execution_count": 22,
   "metadata": {},
   "outputs": [
    {
     "name": "stderr",
     "output_type": "stream",
     "text": [
      "warning: in the working copy of 'alx-zero_day.ipynb', LF will be replaced by CRLF the next time Git touches it\n"
     ]
    }
   ],
   "source": [
    "# Add all these new files to git\n",
    "!git add .\n",
    "#Commit your changes (message: “Starting to code today, so cool”) and push to the remote server\n",
    "!git commit -m \"Starting to code today, so cool\"\n",
    "!git branch -M main\n",
    "!git push -u origin main"
   ]
  },
  {
   "cell_type": "markdown",
   "metadata": {},
   "source": []
  },
  {
   "cell_type": "markdown",
   "metadata": {},
   "source": [
    "### NEXT <code> alx-zero_day </code>"
   ]
  },
  {
   "cell_type": "code",
   "execution_count": 1,
   "metadata": {},
   "outputs": [],
   "source": [
    "import os\n",
    "# creating alx-zero_day folder\n",
    "\n",
    "folder_path = r'C:/Users/komy2\\OneDrive\\Desktop\\AlxSE\\Repos\\alx-zero_day'\n",
    "if not os.path.exists(folder_path):\n",
    "    os.makedirs(folder_path)\n",
    "\n",
    "# Create a README.md inside alx-zero_day\n",
    "file_path = os.path.join(folder_path, 'README.md')\n",
    "\n",
    "with open(file_path, 'w') as file:\n",
    "    file.write(\"This is a mandatory file\")"
   ]
  },
  {
   "cell_type": "code",
   "execution_count": 1,
   "metadata": {},
   "outputs": [],
   "source": [
    "import shutil\n",
    "\n",
    "# copy the ipynb file from zero_day to alx-zero_day\n",
    "\n",
    "source_file = \"C:/Users/komy2/OneDrive/Desktop/AlxSE/Repos/zero_day/zero_day.ipynb\"  \n",
    "dest_folder = \"C:/Users/komy2/OneDrive/Desktop/AlxSE/Repos/alx-zero_day\"\n",
    "\n",
    "shutil.copy(source_file, dest_folder)"
   ]
  },
  {
   "cell_type": "code",
   "execution_count": 7,
   "metadata": {},
   "outputs": [
    {
     "name": "stdout",
     "output_type": "stream",
     "text": [
      "Microsoft Windows [Version 10.0.22631.3007]\n",
      "(c) Microsoft Corporation. All rights reserved.\n",
      "\n",
      "(c:\\Users\\komy2\\OneDrive\\Desktop\\AlxSE\\Repos\\zero_day\\.conda) c:\\Users\\komy2\\OneDrive\\Desktop\\AlxSE\\Repos\\zero_day>copy \"C:/Users/komy2/OneDrive/Desktop/AlxSE/Repos/zero_day/zero_day.ipynb\" \"C:/Users/komy2/OneDrive/Desktop/AlxSE/Repos/alx-zero_day\"\n",
      "        1 file(s) copied.\n",
      "\n",
      "(c:\\Users\\komy2\\OneDrive\\Desktop\\AlxSE\\Repos\\zero_day\\.conda) c:\\Users\\komy2\\OneDrive\\Desktop\\AlxSE\\Repos\\zero_day>"
     ]
    }
   ],
   "source": [
    "%%cmd\n",
    "copy \"C:/Users/komy2/OneDrive/Desktop/AlxSE/Repos/zero_day/zero_day.ipynb\" \"C:/Users/komy2/OneDrive/Desktop/AlxSE/Repos/alx-zero_day\"\n"
   ]
  },
  {
   "cell_type": "code",
   "execution_count": 10,
   "metadata": {},
   "outputs": [],
   "source": [
    "\n",
    "!cp \"C:/Users/komy2/OneDrive/Desktop/AlxSE/Repos/zero_day/zero_day.ipynb\" \"C:/Users/komy2/OneDrive/Desktop/AlxSE/Repos/alx-zero_day\"\n"
   ]
  },
  {
   "cell_type": "code",
   "execution_count": null,
   "metadata": {},
   "outputs": [],
   "source": []
  }
 ],
 "metadata": {
  "kernelspec": {
   "display_name": "Python 3",
   "language": "python",
   "name": "python3"
  },
  "language_info": {
   "codemirror_mode": {
    "name": "ipython",
    "version": 3
   },
   "file_extension": ".py",
   "mimetype": "text/x-python",
   "name": "python",
   "nbconvert_exporter": "python",
   "pygments_lexer": "ipython3",
   "version": "3.12.1"
  }
 },
 "nbformat": 4,
 "nbformat_minor": 2
}
